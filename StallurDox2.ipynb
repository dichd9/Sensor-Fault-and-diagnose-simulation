{
 "cells": [
  {
   "cell_type": "markdown",
   "metadata": {},
   "source": [
    "# EE 617 Project: Sensor Fault Diagnosis Part 2\n",
    "\n",
    "## ATC sensor fault diagnose\n",
    "\n",
    "We build a state space model for an airplane circling an airport with its distance, azimuth and elevation angle measurements. Since computational resources are not constrained at an airport, we shall use Support Vector Machine to classify a sensor as faulty. We simulate both healthy and faulty sensor measurements for a given time. Then on this measurement signal we extract some features (like mean, std deviation etc) and then use it to train an SVM and also validate it.\n",
    "\n",
    "### State Space model\n",
    "\n",
    "Let $x_1, x_3, x_5$ denote position of aircraft in cartesian coordinates respectively and $x_2, x_4, x_6$ denote velocities in these respective directions. $x_7$ denotes the turn rate\n",
    "\n",
    "Then \n",
    "\n",
    "$\\frac{dX}{dt}=\\begin{bmatrix} x_2  \\\\ -x_4x_7  \\\\ x_4  \\\\ x_2x_7 \\\\ x_6 \\\\ 0 \\\\ 0\\end{bmatrix}+Q_d$\n",
    "\n",
    "Here, $Q_d$ is $diag([0, \\sigma_1^2, 0, \\sigma_1^2, 0, \\sigma_1^2, \\sigma_2^2])$ (zero mean noise)\n",
    "\n",
    "The sensor measurement equations are as follows\n",
    "\n",
    "$y_1=\\sqrt{x_1^2+x_3^2+x_5^2}$  (range)\n",
    "\n",
    "$y_2=\\tan^{-1}(x_3/x_1)$   (azimuth angle)\n",
    "\n",
    "$y_3=\\tan^{-1}\\left( \\frac{x_5}{\\sqrt{x_1^2+x_3^2}} \\right)$  (elevation angle)\n",
    "\n",
    "Also measurement noise is added which is $R=diag([\\sigma_r^2, \\sigma_{\\theta}^2, \\sigma_{\\phi}^2])$ (zero mean noise)\n",
    "\n",
    "Initial Condition used for simulation is $x(0)=[1000, 0, 2650, 150, 200, 0, 3]$\n",
    "\n",
    "(Give reference)"
   ]
  },
  {
   "cell_type": "code",
   "execution_count": 1,
   "metadata": {},
   "outputs": [],
   "source": [
    "#Importing the librairies\n",
    "import numpy as np\n",
    "import matplotlib.pyplot as plt\n",
    "from math import *\n",
    "import random\n",
    "import scipy.linalg as sp\n",
    "from sklearn import datasets\n",
    "from sklearn import svm\n",
    "from sklearn.model_selection import train_test_split as tts\n",
    "from sklearn.metrics import accuracy_score\n",
    "from sklearn.metrics import accuracy_score"
   ]
  },
  {
   "cell_type": "code",
   "execution_count": 2,
   "metadata": {},
   "outputs": [],
   "source": [
    "class Radar(object):\n",
    "    \n",
    "    #State Space model of Radar\n",
    "    def __init__(self):\n",
    "        \n",
    "        #States\n",
    "        self.x1=1000\n",
    "        self.x2=0\n",
    "        self.x3=2650\n",
    "        self.x4=150\n",
    "        self.x5=200\n",
    "        self.x6=0\n",
    "        self.x7=3\n",
    "        \n",
    "        \n",
    "    def y1(self):\n",
    "        #Measure range/distance\n",
    "        return sqrt(self.x1**2+self.x3**2+self.x5**2)\n",
    "    \n",
    "    def y2(self):\n",
    "        #Measure azimuth\n",
    "        return atan(self.x3/self.x1)\n",
    "    \n",
    "    def y3(self):\n",
    "        #measure elevation\n",
    "        return atan(self.x5/(sqrt(self.x1**2+self.x3**2)))\n",
    "    \n",
    "    def dxdt(self):\n",
    "        \n",
    "        #The model\n",
    "        dx1dt=self.x2\n",
    "        dx2dt=-self.x4*self.x7\n",
    "        dx3dt=self.x4\n",
    "        dx4dt=self.x2*self.x7\n",
    "        dx5dt=self.x6\n",
    "        dx6dt=0\n",
    "        dx7dt=0\n",
    "        a=np.array([dx1dt, dx2dt, dx3dt, dx4dt, dx5dt, dx6dt, dx7dt])\n",
    "        return a\n",
    "        \n",
    "    def setState(self, X):\n",
    "        \n",
    "        #Set the current state to X\n",
    "        self.x1=X[0]\n",
    "        self.x2=X[1]\n",
    "        self.x3=X[2]\n",
    "        self.x4=X[3]\n",
    "        self.x5=X[4]\n",
    "        self.x6=X[5]\n",
    "        self.x7=X[6]\n",
    "        \n",
    "        \n",
    "    def getState(self):\n",
    "        \n",
    "        #Return the states\n",
    "        return np.array([self.x1, self.x2, self.x3, self.x4, self.x5, self.x6, self.x7])\n",
    "    \n",
    "    def update(self, delt, noise=False):\n",
    "        #Use RK4 method to integrate\n",
    "        \n",
    "        #Initialise\n",
    "        h=delt\n",
    "        X0=self.getState()\n",
    "        \n",
    "        #K1 terms\n",
    "        K1=h*self.dxdt()\n",
    "        X1=X0+K1/2\n",
    "        self.setState(X1)\n",
    "        \n",
    "        #K2 terms\n",
    "        K2=h*self.dxdt()\n",
    "        X2=X0+K2/2\n",
    "        self.setState(X2)\n",
    "        \n",
    "        #K3 terms\n",
    "        K3=h*self.dxdt()\n",
    "        X3=X0+K3\n",
    "        self.setState(X3)\n",
    "        \n",
    "        #K4 terms\n",
    "        K4=h*self.dxdt()\n",
    "        X=X0+K1/6+K2/3+K3/3+K4/6\n",
    "        \n",
    "        #If noise bool is true we want noise to be added so add it\n",
    "        if noise==True:\n",
    "            s1=0.2\n",
    "            s2=7e-3\n",
    "            Qd=np.diag([0, s1**2, 0, s1**2, 0, s1**2, s2**2])\n",
    "            X+=np.random.multivariate_normal([0, 0, 0, 0, 0, 0, 0], Qd)\n",
    "        self.setState(X)\n",
    "        \n",
    "        \n",
    "    def meas(self, noise=False):\n",
    "        \n",
    "        #Measurement\n",
    "        x=self.getState()\n",
    "        Y=np.array([self.y1(), self.y2(), self.y3()])\n",
    "        \n",
    "        if noise:\n",
    "            #If noise bool is True then add nboise\n",
    "            sr=50\n",
    "            st=0.1\n",
    "            sphi=0.1\n",
    "            R=np.diag([sr**2, st**2, sphi**2])\n",
    "            Y+=np.random.multivariate_normal([0, 0, 0], R)\n",
    "        \n",
    "        return Y"
   ]
  },
  {
   "cell_type": "markdown",
   "metadata": {},
   "source": [
    "### Simulation\n",
    "\n",
    "We simulate the aircraft for $N=500$ time instants with time step $0.1 second$ and plot its $x$ and $y$ coordinates. The plane circles around the airport since the turn rate doesn't change"
   ]
  },
  {
   "cell_type": "code",
   "execution_count": 3,
   "metadata": {},
   "outputs": [],
   "source": [
    "a=Radar()\n",
    "Data=[]\n",
    "Ys=[]\n",
    "T=0.1\n",
    "N=500\n",
    "for i in range(0, N):\n",
    "    a.update(0.1, True)\n",
    "    Data.append(a.getState())\n",
    "    Ys.append(a.meas(True))\n",
    "\n",
    "Data=np.array(Data)\n",
    "Ys=np.array(Ys)"
   ]
  },
  {
   "cell_type": "code",
   "execution_count": 4,
   "metadata": {},
   "outputs": [
    {
     "data": {
      "text/plain": [
       "[<matplotlib.lines.Line2D at 0x7fb280db4100>]"
      ]
     },
     "execution_count": 4,
     "metadata": {},
     "output_type": "execute_result"
    },
    {
     "data": {
      "image/png": "[encoded data removed]",
      "text/plain": [
       "<Figure size 432x288 with 1 Axes>"
      ]
     },
     "metadata": {
      "needs_background": "light"
     },
     "output_type": "display_data"
    }
   ],
   "source": [
    "plt.plot(Data[:, 0], Data[:, 2])"
   ]
  },
  {
   "cell_type": "code",
   "execution_count": 5,
   "metadata": {},
   "outputs": [],
   "source": [
    "class Sensor(object):\n",
    "    \n",
    "    #Sensor object its the same as from before in Part 1 of EE 617 Project\n",
    "    def __init__(self):\n",
    "        \n",
    "        self.offset=0\n",
    "        self.drift=0\n",
    "        self.Fault=False\n",
    "        self.model=None\n",
    "        self.R=0\n",
    "        self.t=0\n",
    "        \n",
    "    def setOffset(self, d):\n",
    "        \n",
    "        self.offset=d\n",
    "        self.Fault=True\n",
    "        \n",
    "    def setDrift(self, m):\n",
    "        \n",
    "        self.drift=m\n",
    "        self.t=0\n",
    "        self.Fault=True\n",
    "        \n",
    "    def setModel(self, g, R):\n",
    "        \n",
    "        self.model=g\n",
    "        self.R=R\n",
    "        \n",
    "    def meas(self, X):\n",
    "        \n",
    "        n, m=self.R.shape\n",
    "        a=self.model(X)+self.offset+self.drift*self.t+np.random.multivariate_normal(np.zeros(n), self.R)\n",
    "        self.t+=1\n",
    "        return a\n",
    "    \n",
    "    def erraticScale(self, m):\n",
    "        self.R=m*self.R\n",
    "        self.Fault=True\n",
    "        \n",
    "    def clear(self):\n",
    "        \n",
    "        self.fault=False\n",
    "        self.drift=0*self.drift\n",
    "        self.t=0\n",
    "        self.offset=0*self.offset\n",
    "        \n",
    "def smoother(E, N):\n",
    "    \n",
    "    #Smoothing function as as was used in EE 617 Part 1\n",
    "    L=len(E)\n",
    "    A=[]\n",
    "    s=sum(E[:N])\n",
    "    for i in range(N, L):\n",
    "        A.append(s/N)\n",
    "        s+=E[i]\n",
    "        s-=E[i-N]\n",
    "        \n",
    "    return A\n",
    "\n",
    "def Gx(X, Noisier=True):\n",
    "    \n",
    "    #The measurement function\n",
    "    x1=X[0]\n",
    "    x2=X[1]\n",
    "    x3=X[2]\n",
    "    x4=X[3]\n",
    "    x5=X[4]\n",
    " \n",
    "    y1=sqrt(x1**2+x3**2+x5**2)        #Range\n",
    "    y2=atan(x3/x1)                    #Azimuth angle\n",
    "    y3=atan(x5/(sqrt(x1**2+x3**2)))   #Elevation anlge\n",
    "    \n",
    "    Y=np.array([y1, y2, y3])   #Return the measurements as an array\n",
    "        \n",
    "        \n",
    "    return Y"
   ]
  },
  {
   "cell_type": "markdown",
   "metadata": {},
   "source": [
    "## Fault simulation-Offset\n",
    "\n",
    "Now we simulate an offset fault in range sensor at some time instant. We also run in parallel a noiseless model and its measurement simulation. This basically represents actual measurements and simulated measurements (though here both are simulations, the former being noisy and latter being clean!)"
   ]
  },
  {
   "cell_type": "code",
   "execution_count": 6,
   "metadata": {},
   "outputs": [],
   "source": [
    "Rsens=Sensor()       #Sensor Object\n",
    "\n",
    "#Train the sensor\n",
    "sr=50                 \n",
    "st=0.1\n",
    "sphi=0.1\n",
    "R=np.diag([sr**2, st**2, sphi**2])  #Noise matrice\n",
    "Rsens.setModel(Gx, R)      #Set the sensor to the particular noise level and measurement function of interest"
   ]
  },
  {
   "cell_type": "code",
   "execution_count": 7,
   "metadata": {},
   "outputs": [],
   "source": [
    "a=Radar()     #Radar object that represents actual aircraft and its measuremnts\n",
    "a2=Radar()    #Radar object thats supposed to be a simulation\n",
    "Data=[]       #Here we shall store states data\n",
    "Ys=[]         #Store measurements\n",
    "E=[]          #Store actual - simulated measurements\n",
    "T=0.1         #Time step\n",
    "N=500         #total number of time steps\n",
    "t=250         #time when fault occurs\n",
    "\n",
    "for i in range(0, N):\n",
    "    \n",
    "    a.update(0.1, True)        #update actual aircraft with noise\n",
    "    a2.update(0.1, False)      #update the dummy aircraft without noise\n",
    "    Data.append(a.getState())  #get states data\n",
    "    y=Rsens.meas(a.getState()) #get actual measurement\n",
    "    y2=a2.meas(False)          #get simulated measurement without noise\n",
    "    Ys.append(y)               #Store the measurement\n",
    "    \n",
    "    #Compute and store error\n",
    "    e=y2-y\n",
    "    E.append(e)\n",
    "    \n",
    "    if i==t:\n",
    "        #If now is the time, induce fault\n",
    "        Rsens.setOffset([100, 0, 0])\n",
    "\n",
    "E=np.array(E)\n",
    "Data=np.array(Data)\n",
    "Ys=np.array(Ys)"
   ]
  },
  {
   "cell_type": "code",
   "execution_count": 8,
   "metadata": {},
   "outputs": [
    {
     "data": {
      "image/png": "[encoded data removed]",
      "text/plain": [
       "<Figure size 432x288 with 1 Axes>"
      ]
     },
     "metadata": {
      "needs_background": "light"
     },
     "output_type": "display_data"
    }
   ],
   "source": [
    "plt.plot(E[:, 0])\n",
    "plt.xlabel('Time instant')\n",
    "plt.ylabel('Error')\n",
    "plt.show()"
   ]
  },
  {
   "cell_type": "markdown",
   "metadata": {},
   "source": [
    "## Feature Extraction and SVM for diagnosis\n",
    "\n",
    "On this error signal, we extract 10 features ($\\mu_x$ is mean and $\\sigma$ is std deviation on error signal)\n",
    "\n",
    "$Y_{RMS}=\\sqrt{\\frac{1}{N}\\sum_{i=1}^{N} x_i^2}$\n",
    "\n",
    "$Y_{RMS}=\\left( \\frac{1}{N} \\sum_{i=1}^{N} |x_i| \\right)^2$\n",
    "\n",
    "$Y_{KV}=1/N \\sum_{i=1}^{N} \\left( \\frac{x_i-\\mu_x}{\\sigma}   \\right)^4$\n",
    "\n",
    "$Y_{SV}=1/N \\sum_{i=1}^{N} \\left( \\frac{x_i-\\mu_x}{\\sigma}   \\right)^3$\n",
    "\n",
    "$Y_{PPV}= max(x)-min(x)$\n",
    "\n",
    "$Y_{CF}=\\frac{max(|x_i|)}{Y_{RMS}}$\n",
    "\n",
    "$Y_{IF}=\\frac{max(|x_i|)}{\\frac{1}{N}\\sum_{i=1}^{N}|x_i|}$\n",
    "\n",
    "$Y_{MF}=\\frac{max(|x_i|)}{Y_{SRA}}$\n",
    "\n",
    "$Y_{SF}=\\frac{max(|x|}{\\sqrt {\\frac{1}{N}\\sum_{i=1}^{N}x_i^2}}$\n",
    "\n",
    "$Y_{KF}=\\frac{1/N \\sum_{i=1}^{N} \\left( \\frac{x_i-\\mu_x}{\\sigma}   \\right)^4}{\\left( 1/N\\sum_{i=1}^{N}x_i^2 \\right)^2}$\n",
    "\n",
    "For a given simulation for 500 time instants, we extract these features on the error signal. The idea is to perform this simulation many times, with fault induction in some cases and not in others. This data of these 10 features will be used to train an SVM that will classify a sensor error signal as faulty or okay. Using SVM, lot of process is automated i.e. we dont have to tweak and look for thresholds as was done in the induction motor case"
   ]
  },
  {
   "cell_type": "code",
   "execution_count": 9,
   "metadata": {},
   "outputs": [],
   "source": [
    "def ExtractFeatures(E):\n",
    "    \n",
    "    \n",
    "    #Based on the above formulae extract the features and return as numpy array\n",
    "    Yrms=0\n",
    "    absSum=0\n",
    "    Ykv=0\n",
    "    Ysv=0\n",
    "    Ypv=0\n",
    "    Ycf=0\n",
    "    Yif=0\n",
    "    Ymf=0\n",
    "    Ysf=0\n",
    "    Ykf=0\n",
    "    N=len(E)\n",
    "    M=sum(E)/N\n",
    "    \n",
    "    d=0\n",
    "    for i in E:\n",
    "        Yrms+=i**2\n",
    "        d+=(i-M)**2\n",
    "    \n",
    "    Yrms=sqrt(Yrms/N)\n",
    "    sigma=sqrt(d/N)\n",
    "    \n",
    "    for i in E:\n",
    "        absSum+=(abs(i))\n",
    "        Ykv+=((i-M)/sigma)**4\n",
    "        Ysv+=((i-M)/sigma)**3\n",
    "        \n",
    "    Ysra=(absSum/N)**2\n",
    "    Ykv=Ykv/N\n",
    "    Ysv=Ysv/N\n",
    "    Emax=max(E)\n",
    "    Emin=min(E)\n",
    "    Ypv=Emax-Emin\n",
    "    Emaxabs=max(abs(Emax), abs(Emin))\n",
    "    Ycf=Emaxabs/Yrms\n",
    "    Yif=Emaxabs/(absSum/N)\n",
    "    Ymf=Emaxabs/Ysra\n",
    "    Ysf=Emax/Yrms\n",
    "    Ykf=Ykv/(Yrms**4)\n",
    "    \n",
    "    return np.array([Yrms, Ysra, Ykv, Ysv, Ypv, Ycf, Yif, Ymf, Ysf, Ykf])\n",
    "    \n",
    "def normalise(F):\n",
    "    \n",
    "    #normalise the data, since we are going to be using SVM\n",
    "    \n",
    "    s=0\n",
    "    for i in F:\n",
    "        s+=abs(i)\n",
    "    S=s\n",
    "    return F/S"
   ]
  },
  {
   "cell_type": "code",
   "execution_count": 10,
   "metadata": {},
   "outputs": [],
   "source": [
    "def simulate(Offset=0, N=500):\n",
    "    \n",
    "    #A simple function to perform the simulation with Offset Fault \n",
    "    #at some random time instant\n",
    "    #If Offset=0 it automatically implies healthy simultions\n",
    "    \n",
    "    a=Radar()\n",
    "    a2=Radar()\n",
    "    Data=[]\n",
    "    Ys=[]\n",
    "    E=[]\n",
    "    T=0.1\n",
    "    E=[]\n",
    "    t=int(random.uniform(N/10, N))   #The random time instant to generate fault\n",
    "    \n",
    "    for i in range(0, N):\n",
    "        \n",
    "        a.update(0.1, True)\n",
    "        a2.update(0.1, False)\n",
    "        Data.append(a.getState())\n",
    "        y=Rsens.meas(a.getState())\n",
    "        y2=a2.meas(False)\n",
    "        Ys.append(y)\n",
    "        E.append(y-y2)\n",
    "        if i==t:\n",
    "            \n",
    "            Rsens.setOffset([Offset, 0, 0])\n",
    "    \n",
    "\n",
    "    Data=np.array(Data)\n",
    "    E=np.array(E)\n",
    "    \n",
    "    Y1f=ExtractFeatures(E[:, 0])    #Extract features from error signal of range sensor\n",
    "    Y2f=ExtractFeatures(E[:, 1])    #Extract features from error signal of azimuth sensor\n",
    "    Y3f=ExtractFeatures(E[:, 2])    #Extract features from error signal of elevation sensor\n",
    "    \n",
    "    return Y1f, Y2f, Y3f"
   ]
  },
  {
   "cell_type": "code",
   "execution_count": 11,
   "metadata": {},
   "outputs": [],
   "source": [
    "def genData(M=5, Offset=0):\n",
    "    \n",
    "    #Now lets do the rigorous long simulations, :(\n",
    "    #We shall do M simulations with healthy sensor and M with faulty sensor\n",
    "    \n",
    "    #These shall store the extracted normalised features on the error signals\n",
    "    Y1=[]   #Range sensor\n",
    "    Y2=[]   #Azimuth sensor\n",
    "    Y3=[]   #elevation sensor\n",
    "    \n",
    "    for i in range(0, M):\n",
    "        \n",
    "        #healthy simulations\n",
    "        Y1f, Y2f, Y3f=simulate(0)\n",
    "        Y1.append(Y1f)\n",
    "        Y2.append(Y2f)\n",
    "        Y3.append(Y3f)\n",
    "        \n",
    "    for i in range(0, M):\n",
    "        \n",
    "        #Perform the faulty simulations\n",
    "        Y1f, Y2f, Y3f=simulate(Offset)\n",
    "        Y1.append(Y1f)\n",
    "        Y2.append(Y2f)\n",
    "        Y3.append(Y3f)\n",
    "    \n",
    "    #Convert to numpy array it just makes life easier\n",
    "    Y1=np.array(Y1)\n",
    "    Y2=np.array(Y2)\n",
    "    Y3=np.array(Y3)\n",
    "    \n",
    "    for i in range(0, 2*M):\n",
    "        #normalise all the data\n",
    "        Y1[i]=normalise(Y1[i])\n",
    "        Y2[i]=normalise(Y2[i])\n",
    "        Y3[i]=normalise(Y3[i])\n",
    "        \n",
    "    \n",
    "    return Y1, Y2, Y3"
   ]
  },
  {
   "cell_type": "markdown",
   "metadata": {},
   "source": [
    "## Example simulation\n",
    "\n",
    "Now lets do the simulation of ATC 100 times with no fault in range sensor and then 100 times with sensor having an Offset fault of 60. Then we extract the features on each. Then we split the data in 60:40 ratio of train, test in 1000 different combinations. For each combination we train an SVM and calculate the accuracy, we print the average accuracy of these 1000 test-train combinations. This was how data was generated for the report"
   ]
  },
  {
   "cell_type": "code",
   "execution_count": 18,
   "metadata": {},
   "outputs": [],
   "source": [
    "Y1, Y2, Y3=genData(100, 60)   #100 healthy and 100 faulty simulations with Offset 60"
   ]
  },
  {
   "cell_type": "code",
   "execution_count": 19,
   "metadata": {},
   "outputs": [],
   "source": [
    "X=Y1\n",
    "y=np.ones(200)     #Target Variable\n",
    "for i in range(0, 100):\n",
    "    y[i]=0         #First 100 sims are healthy and rest are faulty"
   ]
  },
  {
   "cell_type": "code",
   "execution_count": 20,
   "metadata": {},
   "outputs": [
    {
     "name": "stdout",
     "output_type": "stream",
     "text": [
      "0.9329374999999991\n"
     ]
    }
   ],
   "source": [
    "Merit=[]    #Store accuracies\n",
    "for i in range(0, 1000):\n",
    "    X_train, X_test, y_train, y_test=tts(X, y, test_size=0.4, random_state=i) #Test train splitting\n",
    "    \n",
    "    #Train SVM\n",
    "    model=svm.SVC(kernel='rbf')     \n",
    "    model.fit(X_train, y_train)\n",
    "    \n",
    "    #Compute accuracy for this particular combination\n",
    "    y_pred=model.predict(X_test)\n",
    "    Merit.append(accuracy_score(y_test, y_pred))\n",
    "    \n",
    "#Print average accuracy\n",
    "print(sum(Merit)/len(Merit))"
   ]
  },
  {
   "cell_type": "markdown",
   "metadata": {},
   "source": [
    "## Drift Fault in Range sensor\n",
    "\n",
    "This is very similar to the offset fault, except that its drift, else everything is almost entirely same!!\n",
    "Lets see an example simulation of the error signal"
   ]
  },
  {
   "cell_type": "code",
   "execution_count": 21,
   "metadata": {},
   "outputs": [],
   "source": [
    "Rsens=Sensor()\n",
    "sr=50\n",
    "st=0.1\n",
    "sphi=0.1\n",
    "R=np.diag([sr**2, st**2, sphi**2])\n",
    "Rsens.setModel(Gx, R)"
   ]
  },
  {
   "cell_type": "code",
   "execution_count": 22,
   "metadata": {},
   "outputs": [],
   "source": [
    "a=Radar()\n",
    "a2=Radar()\n",
    "Data=[]\n",
    "Ys=[]\n",
    "E=[]\n",
    "T=0.1\n",
    "N=500\n",
    "t=250\n",
    "for i in range(0, N):\n",
    "    a.update(0.1, True)\n",
    "    a2.update(0.1, False)\n",
    "    Data.append(a.getState())\n",
    "    y=Rsens.meas(a.getState())\n",
    "    y2=a2.meas(False)\n",
    "    Ys.append(y)\n",
    "    e=y2-y\n",
    "    E.append(e)\n",
    "    if i==t:\n",
    "        Rsens.setDrift(np.array([1, 0, 0]))\n",
    "    \n",
    "\n",
    "E=np.array(E)\n",
    "Data=np.array(Data)\n",
    "Ys=np.array(Ys)"
   ]
  },
  {
   "cell_type": "code",
   "execution_count": 23,
   "metadata": {},
   "outputs": [
    {
     "data": {
      "text/plain": [
       "[<matplotlib.lines.Line2D at 0x7fb2813cf6d0>]"
      ]
     },
     "execution_count": 23,
     "metadata": {},
     "output_type": "execute_result"
    },
    {
     "data": {
      "image/png": "[encoded data removed]",
      "text/plain": [
       "<Figure size 432x288 with 1 Axes>"
      ]
     },
     "metadata": {
      "needs_background": "light"
     },
     "output_type": "display_data"
    }
   ],
   "source": [
    "plt.plot(E[:, 0])"
   ]
  },
  {
   "cell_type": "markdown",
   "metadata": {},
   "source": [
    "Similar functions defined below"
   ]
  },
  {
   "cell_type": "code",
   "execution_count": 29,
   "metadata": {},
   "outputs": [],
   "source": [
    "def simulateDrift(drift=0, N=500):\n",
    "    \n",
    "    #automate the above process\n",
    "    a=Radar()\n",
    "    a2=Radar()\n",
    "    Data=[]\n",
    "    Ys=[]\n",
    "    E=[]\n",
    "    T=0.1\n",
    "    E=[]\n",
    "    t=int(random.uniform(N/10, N))   #At random time induce fault\n",
    "    \n",
    "    for i in range(0, N):\n",
    "        a.update(0.1, True)\n",
    "        a2.update(0.1, False)\n",
    "        Data.append(a.getState())\n",
    "        y=Rsens.meas(a.getState())\n",
    "        y2=a2.meas(False)\n",
    "        Ys.append(y)\n",
    "        E.append(y-y2)\n",
    "        if i==t:\n",
    "            Rsens.setDrift(np.array([drift, 0, 0]))\n",
    "    \n",
    "\n",
    "    Data=np.array(Data)\n",
    "    E=np.array(E)\n",
    "    \n",
    "    #Extract features and return\n",
    "    Y1f=ExtractFeatures(E[:, 0])\n",
    "    Y2f=ExtractFeatures(E[:, 1])\n",
    "    Y3f=ExtractFeatures(E[:, 2])\n",
    "    \n",
    "    return Y1f, Y2f, Y3f"
   ]
  },
  {
   "cell_type": "code",
   "execution_count": 32,
   "metadata": {},
   "outputs": [],
   "source": [
    "def genDataDrift(M=5, Drift=0):\n",
    "    \n",
    "    \n",
    "    #M healthy, M faulty simulations same as offset except of course its drifting !!\n",
    "    Y1=[]\n",
    "    Y2=[]\n",
    "    Y3=[]\n",
    "    \n",
    "    for i in range(0, M):\n",
    "        \n",
    "        Y1f, Y2f, Y3f=simulateDrift(0)\n",
    "        Y1.append(Y1f)\n",
    "        Y2.append(Y2f)\n",
    "        Y3.append(Y3f)\n",
    "        \n",
    "    for i in range(0, M):\n",
    "        \n",
    "        Y1f, Y2f, Y3f=simulateDrift(Drift)\n",
    "        Y1.append(Y1f)\n",
    "        Y2.append(Y2f)\n",
    "        Y3.append(Y3f)\n",
    "        \n",
    "    Y1=np.array(Y1)\n",
    "    Y2=np.array(Y2)\n",
    "    Y3=np.array(Y3)\n",
    "    \n",
    "    for i in range(0, 2*M):\n",
    "        Y1[i]=normalise(Y1[i])\n",
    "        Y2[i]=normalise(Y2[i])\n",
    "        Y3[i]=normalise(Y3[i])\n",
    "        \n",
    "    \n",
    "    return Y1, Y2, Y3"
   ]
  },
  {
   "cell_type": "markdown",
   "metadata": {},
   "source": [
    "### Example simulation\n",
    "\n",
    "Performing 100 healthy and 100 faulty simulations (drift -> 0.2). For 1000 combinations of train test splitting in ration of 60:40, train SVM and calculate accuracy and report finally the average accuracy."
   ]
  },
  {
   "cell_type": "code",
   "execution_count": 33,
   "metadata": {},
   "outputs": [],
   "source": [
    "Y1, Y2, Y3=genDataDrift(100, 0.2)   #100 healthy and 100 faulty simulations with drift 0.2"
   ]
  },
  {
   "cell_type": "code",
   "execution_count": 34,
   "metadata": {},
   "outputs": [],
   "source": [
    "X=Y1\n",
    "#Generate the target variable as before\n",
    "y=np.ones(200)\n",
    "for i in range(0, 100):\n",
    "    y[i]=0"
   ]
  },
  {
   "cell_type": "code",
   "execution_count": 35,
   "metadata": {},
   "outputs": [
    {
     "name": "stdout",
     "output_type": "stream",
     "text": [
      "0.8726000000000008\n"
     ]
    }
   ],
   "source": [
    "Merit=[]\n",
    "for i in range(0, 1000):\n",
    "    X_train, X_test, y_train, y_test=tts(X, y, test_size=0.4, random_state=i)   #Split 60-40\n",
    "    \n",
    "    #Train SVM\n",
    "    model=svm.SVC(kernel='rbf')\n",
    "    model.fit(X_train, y_train)\n",
    "    \n",
    "    #Calcuate accuracy\n",
    "    y_pred=model.predict(X_test)\n",
    "    Merit.append(accuracy_score(y_test, y_pred))\n",
    "    \n",
    "#Print average accuracy\n",
    "print(sum(Merit)/len(Merit))"
   ]
  },
  {
   "cell_type": "markdown",
   "metadata": {},
   "source": [
    "This was the procedure used in generating data for report"
   ]
  },
  {
   "cell_type": "code",
   "execution_count": null,
   "metadata": {},
   "outputs": [],
   "source": []
  }
 ],
 "metadata": {
  "kernelspec": {
   "display_name": "Python 3",
   "language": "python",
   "name": "python3"
  },
  "language_info": {
   "codemirror_mode": {
    "name": "ipython",
    "version": 3
   },
   "file_extension": ".py",
   "mimetype": "text/x-python",
   "name": "python",
   "nbconvert_exporter": "python",
   "pygments_lexer": "ipython3",
   "version": "3.8.5"
  }
 },
 "nbformat": 4,
 "nbformat_minor": 4
}
